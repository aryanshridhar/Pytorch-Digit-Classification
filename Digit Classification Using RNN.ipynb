{
 "cells": [
  {
   "cell_type": "code",
   "execution_count": 72,
   "metadata": {},
   "outputs": [],
   "source": [
    "import torch\n",
    "import torchvision\n",
    "import numpy as np\n",
    "import torch.nn as nn\n",
    "import torch.nn.functional as F\n",
    "from torchvision.datasets import MNIST\n",
    "from torchvision.transforms import ToTensor"
   ]
  },
  {
   "cell_type": "markdown",
   "metadata": {},
   "source": [
    "## Train Dataset"
   ]
  },
  {
   "cell_type": "code",
   "execution_count": 73,
   "metadata": {},
   "outputs": [],
   "source": [
    "dataset = MNIST(root = '.' , download = True , transform = ToTensor())"
   ]
  },
  {
   "cell_type": "code",
   "execution_count": 74,
   "metadata": {},
   "outputs": [
    {
     "data": {
      "text/plain": [
       "Dataset MNIST\n",
       "    Number of datapoints: 60000\n",
       "    Root location: .\n",
       "    Split: Train\n",
       "    StandardTransform\n",
       "Transform: ToTensor()"
      ]
     },
     "execution_count": 74,
     "metadata": {},
     "output_type": "execute_result"
    }
   ],
   "source": [
    "dataset"
   ]
  },
  {
   "cell_type": "code",
   "execution_count": 75,
   "metadata": {},
   "outputs": [
    {
     "data": {
      "text/plain": [
       "torch.Size([1, 28, 28])"
      ]
     },
     "execution_count": 75,
     "metadata": {},
     "output_type": "execute_result"
    }
   ],
   "source": [
    "dataset[0][0].size()"
   ]
  },
  {
   "cell_type": "code",
   "execution_count": 76,
   "metadata": {},
   "outputs": [],
   "source": [
    "import matplotlib.pyplot as plt"
   ]
  },
  {
   "cell_type": "code",
   "execution_count": 77,
   "metadata": {},
   "outputs": [
    {
     "data": {
      "text/plain": [
       "<matplotlib.image.AxesImage at 0x7f4450056750>"
      ]
     },
     "execution_count": 77,
     "metadata": {},
     "output_type": "execute_result"
    },
    {
     "data": {
      "image/png": "[encoded data removed]",
      "text/plain": [
       "<Figure size 432x288 with 1 Axes>"
      ]
     },
     "metadata": {
      "needs_background": "light"
     },
     "output_type": "display_data"
    }
   ],
   "source": [
    "plt.imshow(dataset[0][0][0,:,:] , cmap = 'gray')"
   ]
  },
  {
   "cell_type": "markdown",
   "metadata": {},
   "source": [
    "## Loading the Dataset"
   ]
  },
  {
   "cell_type": "code",
   "execution_count": 78,
   "metadata": {},
   "outputs": [],
   "source": [
    "from torch.utils.data.dataloader import DataLoader"
   ]
  },
  {
   "cell_type": "code",
   "execution_count": 79,
   "metadata": {},
   "outputs": [],
   "source": [
    "batch_size = 100"
   ]
  },
  {
   "cell_type": "code",
   "execution_count": 80,
   "metadata": {},
   "outputs": [],
   "source": [
    "train_dl = DataLoader(dataset, \n",
    "                      batch_size, \n",
    "                      shuffle = True)"
   ]
  },
  {
   "cell_type": "markdown",
   "metadata": {},
   "source": [
    "## RNN Model"
   ]
  },
  {
   "cell_type": "code",
   "execution_count": 81,
   "metadata": {},
   "outputs": [],
   "source": [
    "class RNN(nn.Module):\n",
    "    def __init__(self,input_size ,seq_len , hidden_size ,num_layers , output_size):\n",
    "        super(RNN , self).__init__()\n",
    "        self.input_size =  input_size\n",
    "        self.hidden_size = hidden_size\n",
    "        self.num_layers = num_layers\n",
    "        self.output_size = output_size\n",
    "        self.seq_len = seq_len\n",
    "        \n",
    "        # (batch , seq , features)\n",
    "        self.rnn = nn.RNN(input_size , hidden_size , num_layers , nonlinearity = 'relu' , batch_first = True)\n",
    "        \n",
    "        self.linear1 = nn.Linear(hidden_size , output_size)\n",
    "        \n",
    "    \n",
    "    def forward(self , batch):\n",
    "        \n",
    "        batch = batch.view(-1,self.input_size ,self.seq_len)\n",
    "        \n",
    "        out,_ = self.rnn(batch)\n",
    "        out = out[:,-1,:] # taking only the last output of RNN model through a Linear layer\n",
    "        out = self.linear1(out)\n",
    "        \n",
    "        return out"
   ]
  },
  {
   "cell_type": "markdown",
   "metadata": {},
   "source": [
    "## Structure"
   ]
  },
  {
   "cell_type": "markdown",
   "metadata": {},
   "source": [
    "![title](Images/RNN.png)"
   ]
  },
  {
   "cell_type": "code",
   "execution_count": 82,
   "metadata": {},
   "outputs": [],
   "source": [
    "input_size,seq , hidden_size ,num_layers , output_size = 28,28,101,1,10"
   ]
  },
  {
   "cell_type": "code",
   "execution_count": 83,
   "metadata": {},
   "outputs": [],
   "source": [
    "model = RNN(input_size ,seq , hidden_size ,num_layers , output_size)"
   ]
  },
  {
   "cell_type": "code",
   "execution_count": 84,
   "metadata": {},
   "outputs": [
    {
     "name": "stdout",
     "output_type": "stream",
     "text": [
      "torch.Size([100, 10])\n"
     ]
    }
   ],
   "source": [
    "for image,label in train_dl:\n",
    "    pred = model(image)\n",
    "    print(pred.shape)\n",
    "\n",
    "    break"
   ]
  },
  {
   "cell_type": "markdown",
   "metadata": {},
   "source": [
    "## Loss Fn"
   ]
  },
  {
   "cell_type": "code",
   "execution_count": 85,
   "metadata": {},
   "outputs": [],
   "source": [
    "loss_fn = nn.CrossEntropyLoss()"
   ]
  },
  {
   "cell_type": "markdown",
   "metadata": {},
   "source": [
    "## Initial Loss"
   ]
  },
  {
   "cell_type": "code",
   "execution_count": 86,
   "metadata": {},
   "outputs": [
    {
     "name": "stdout",
     "output_type": "stream",
     "text": [
      "2.312309503555298\n"
     ]
    }
   ],
   "source": [
    "for image,label in train_dl:\n",
    "    pred = model(image)\n",
    "    loss = loss_fn(pred , label)\n",
    "    print(loss.item())\n",
    "\n",
    "    break"
   ]
  },
  {
   "cell_type": "markdown",
   "metadata": {},
   "source": [
    "## Optimizer"
   ]
  },
  {
   "cell_type": "code",
   "execution_count": 87,
   "metadata": {},
   "outputs": [],
   "source": [
    "opt = torch.optim.SGD(model.parameters() , lr = 0.01)"
   ]
  },
  {
   "cell_type": "markdown",
   "metadata": {},
   "source": [
    "## Training"
   ]
  },
  {
   "cell_type": "code",
   "execution_count": 88,
   "metadata": {},
   "outputs": [
    {
     "name": "stdout",
     "output_type": "stream",
     "text": [
      "Iteration 0 , Loss 2.288759469985962\n",
      "Iteration 1 , Loss 2.2748847007751465\n",
      "Iteration 2 , Loss 1.6014771461486816\n",
      "Iteration 3 , Loss 1.3133065700531006\n",
      "Iteration 4 , Loss 0.9248207807540894\n",
      "Iteration 5 , Loss 0.5465739965438843\n",
      "Iteration 6 , Loss 0.4069939851760864\n",
      "Iteration 7 , Loss 0.38453811407089233\n",
      "Iteration 8 , Loss 0.2782380282878876\n",
      "Iteration 9 , Loss 0.2349889725446701\n",
      "Iteration 10 , Loss 0.18652096390724182\n",
      "Iteration 11 , Loss 0.22368861734867096\n",
      "Iteration 12 , Loss 0.2226027101278305\n",
      "Iteration 13 , Loss 0.15620540082454681\n",
      "Iteration 14 , Loss 0.21518373489379883\n",
      "Iteration 15 , Loss 0.12727642059326172\n",
      "Iteration 16 , Loss 0.11896321177482605\n",
      "Iteration 17 , Loss 0.15001772344112396\n",
      "Iteration 18 , Loss 0.21237967908382416\n",
      "Iteration 19 , Loss 0.12714368104934692\n",
      "Iteration 20 , Loss 0.0698949322104454\n",
      "Iteration 21 , Loss 0.1106388121843338\n",
      "Iteration 22 , Loss 0.17363308370113373\n",
      "Iteration 23 , Loss 0.2060067057609558\n",
      "Iteration 24 , Loss 0.05756727606058121\n",
      "Iteration 25 , Loss 0.10452891141176224\n",
      "Iteration 26 , Loss 0.056787166744470596\n",
      "Iteration 27 , Loss 0.22063158452510834\n",
      "Iteration 28 , Loss 0.07385924458503723\n",
      "Iteration 29 , Loss 0.15118904411792755\n"
     ]
    }
   ],
   "source": [
    "iterations = []\n",
    "loss_set = []\n",
    "for i in range(0,30):\n",
    "    for image,label in train_dl:\n",
    "        pred = model(image)\n",
    "        loss = loss_fn(pred , label)\n",
    "        loss.backward()\n",
    "        with torch.no_grad():\n",
    "            opt.step()\n",
    "            opt.zero_grad()\n",
    "            \n",
    "    iterations.append(i)\n",
    "    loss_set.append(loss)\n",
    "    \n",
    "    print(f'Iteration {i} , Loss {loss}')"
   ]
  },
  {
   "cell_type": "code",
   "execution_count": 89,
   "metadata": {},
   "outputs": [
    {
     "data": {
      "text/plain": [
       "Text(0.5, 0, 'Iteration')"
      ]
     },
     "execution_count": 89,
     "metadata": {},
     "output_type": "execute_result"
    },
    {
     "data": {
      "image/png": "[encoded data removed]",
      "text/plain": [
       "<Figure size 432x288 with 1 Axes>"
      ]
     },
     "metadata": {
      "needs_background": "light"
     },
     "output_type": "display_data"
    }
   ],
   "source": [
    "plt.plot(iterations , loss_set)\n",
    "plt.title('Iteration Vs Loss')\n",
    "plt.ylabel('Loss')\n",
    "plt.xlabel('Iteration')"
   ]
  },
  {
   "cell_type": "markdown",
   "metadata": {},
   "source": [
    "## Test Dataset"
   ]
  },
  {
   "cell_type": "code",
   "execution_count": 90,
   "metadata": {},
   "outputs": [],
   "source": [
    "test_dataset = MNIST(root = '.' , train = False , transform = ToTensor())"
   ]
  },
  {
   "cell_type": "code",
   "execution_count": 91,
   "metadata": {},
   "outputs": [
    {
     "data": {
      "text/plain": [
       "Dataset MNIST\n",
       "    Number of datapoints: 10000\n",
       "    Root location: .\n",
       "    Split: Test\n",
       "    StandardTransform\n",
       "Transform: ToTensor()"
      ]
     },
     "execution_count": 91,
     "metadata": {},
     "output_type": "execute_result"
    }
   ],
   "source": [
    "test_dataset"
   ]
  },
  {
   "cell_type": "markdown",
   "metadata": {},
   "source": [
    "## Loading Test Dataset"
   ]
  },
  {
   "cell_type": "code",
   "execution_count": 92,
   "metadata": {},
   "outputs": [],
   "source": [
    "test_dl  = DataLoader(test_dataset , batch_size , shuffle = True , )"
   ]
  },
  {
   "cell_type": "markdown",
   "metadata": {},
   "source": [
    "## Accuracy"
   ]
  },
  {
   "cell_type": "code",
   "execution_count": 93,
   "metadata": {},
   "outputs": [],
   "source": [
    "correct = 0\n",
    "total = 0\n",
    "for test,label in test_dl:\n",
    "    pred = model(test)\n",
    "    for i in range(len(pred)):\n",
    "        _ , prediction = torch.max(pred[i] , dim = 0)\n",
    "        if prediction.item() == label[i].item():\n",
    "            correct += 1\n",
    "        total += 1"
   ]
  },
  {
   "cell_type": "code",
   "execution_count": 94,
   "metadata": {},
   "outputs": [
    {
     "name": "stdout",
     "output_type": "stream",
     "text": [
      "Accuracy is 97%\n"
     ]
    }
   ],
   "source": [
    "print(f'Accuracy is {round((correct/total)*100)}%')"
   ]
  },
  {
   "cell_type": "code",
   "execution_count": null,
   "metadata": {},
   "outputs": [],
   "source": []
  }
 ],
 "metadata": {
  "kernelspec": {
   "display_name": "Python 3",
   "language": "python",
   "name": "python3"
  },
  "language_info": {
   "codemirror_mode": {
    "name": "ipython",
    "version": 3
   },
   "file_extension": ".py",
   "mimetype": "text/x-python",
   "name": "python",
   "nbconvert_exporter": "python",
   "pygments_lexer": "ipython3",
   "version": "3.7.6"
  }
 },
 "nbformat": 4,
 "nbformat_minor": 4
}
