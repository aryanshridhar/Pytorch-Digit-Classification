{
 "cells": [
  {
   "cell_type": "code",
   "execution_count": 1,
   "metadata": {},
   "outputs": [],
   "source": [
    "import torch\n",
    "import torchvision\n",
    "import numpy as np\n",
    "import torch.nn as nn\n",
    "import torch.nn.functional as F\n",
    "from torchvision.datasets import MNIST\n",
    "from torchvision.transforms import ToTensor"
   ]
  },
  {
   "cell_type": "markdown",
   "metadata": {},
   "source": [
    "## Dataset"
   ]
  },
  {
   "cell_type": "code",
   "execution_count": 2,
   "metadata": {},
   "outputs": [],
   "source": [
    "dataset = MNIST(root = '.' , download = True , transform = ToTensor())"
   ]
  },
  {
   "cell_type": "code",
   "execution_count": 3,
   "metadata": {},
   "outputs": [
    {
     "data": {
      "text/plain": [
       "Dataset MNIST\n",
       "    Number of datapoints: 60000\n",
       "    Root location: .\n",
       "    Split: Train\n",
       "    StandardTransform\n",
       "Transform: ToTensor()"
      ]
     },
     "execution_count": 3,
     "metadata": {},
     "output_type": "execute_result"
    }
   ],
   "source": [
    "dataset"
   ]
  },
  {
   "cell_type": "code",
   "execution_count": 4,
   "metadata": {},
   "outputs": [
    {
     "data": {
      "text/plain": [
       "torch.Size([1, 28, 28])"
      ]
     },
     "execution_count": 4,
     "metadata": {},
     "output_type": "execute_result"
    }
   ],
   "source": [
    "dataset[0][0].size()"
   ]
  },
  {
   "cell_type": "code",
   "execution_count": 5,
   "metadata": {},
   "outputs": [],
   "source": [
    "import matplotlib.pyplot as plt"
   ]
  },
  {
   "cell_type": "code",
   "execution_count": 6,
   "metadata": {},
   "outputs": [
    {
     "data": {
      "text/plain": [
       "<matplotlib.image.AxesImage at 0x7fc46ba32090>"
      ]
     },
     "execution_count": 6,
     "metadata": {},
     "output_type": "execute_result"
    },
    {
     "data": {
      "image/png": "[encoded data removed]",
      "text/plain": [
       "<Figure size 432x288 with 1 Axes>"
      ]
     },
     "metadata": {
      "needs_background": "light"
     },
     "output_type": "display_data"
    }
   ],
   "source": [
    "plt.imshow(dataset[0][0][0,:,:] , cmap = 'gray')"
   ]
  },
  {
   "cell_type": "code",
   "execution_count": 7,
   "metadata": {},
   "outputs": [
    {
     "data": {
      "text/plain": [
       "<matplotlib.image.AxesImage at 0x7fc46b9cbd90>"
      ]
     },
     "execution_count": 7,
     "metadata": {},
     "output_type": "execute_result"
    },
    {
     "data": {
      "image/png": "[encoded data removed]",
      "text/plain": [
       "<Figure size 432x288 with 1 Axes>"
      ]
     },
     "metadata": {
      "needs_background": "light"
     },
     "output_type": "display_data"
    }
   ],
   "source": [
    "plt.imshow(dataset[1][0][0,:,:] , cmap = 'gray')"
   ]
  },
  {
   "cell_type": "code",
   "execution_count": 8,
   "metadata": {},
   "outputs": [
    {
     "data": {
      "text/plain": [
       "array([47, 93, 34, 54, 84, 96, 64,  4, 95, 87, 12, 56, 19, 16, 71, 78, 72,\n",
       "       60, 24, 30, 41, 46, 28, 52, 38, 90, 39, 17, 70, 20, 77, 42, 57, 22,\n",
       "        5, 48, 69, 85, 18, 44, 58, 82, 27, 68, 11, 45, 61, 97, 86, 83, 75,\n",
       "       59, 89, 66,  7, 13, 79,  3, 31, 92, 29, 23, 25, 51, 14, 94, 99, 26,\n",
       "        2,  0,  1, 40, 43, 67, 49,  8, 73, 65, 10, 98, 21, 50, 32, 91, 80,\n",
       "       33,  6, 74, 88, 36, 53, 62, 81,  9, 35, 55, 63, 37, 76, 15])"
      ]
     },
     "execution_count": 8,
     "metadata": {},
     "output_type": "execute_result"
    }
   ],
   "source": [
    "np.random.permutation(100)"
   ]
  },
  {
   "cell_type": "markdown",
   "metadata": {},
   "source": [
    "## Splitting into Training and Validation Set"
   ]
  },
  {
   "cell_type": "code",
   "execution_count": 9,
   "metadata": {},
   "outputs": [],
   "source": [
    "def split_indices(n, val_pct):\n",
    "    # Determine size of validation set\n",
    "    n_val = int(val_pct*n)\n",
    "    # Create random permutation of 0 to n-1\n",
    "    idxs = np.random.permutation(n)\n",
    "    # Pick first n_val indices for validation set\n",
    "    return idxs[n_val:], idxs[:n_val]"
   ]
  },
  {
   "cell_type": "code",
   "execution_count": 10,
   "metadata": {},
   "outputs": [],
   "source": [
    "train_indices, val_indices = split_indices(len(dataset), val_pct=0.2)"
   ]
  },
  {
   "cell_type": "code",
   "execution_count": 11,
   "metadata": {},
   "outputs": [],
   "source": [
    "from torch.utils.data.sampler import SubsetRandomSampler\n",
    "from torch.utils.data.dataloader import DataLoader"
   ]
  },
  {
   "cell_type": "code",
   "execution_count": 12,
   "metadata": {},
   "outputs": [],
   "source": [
    "batch_size=100\n",
    "\n",
    "# Training sampler and data loader\n",
    "train_sampler = SubsetRandomSampler(train_indices) # random shulffes and creates a sample\n",
    "train_dl = DataLoader(dataset, \n",
    "                      batch_size, \n",
    "                      sampler=train_sampler) # a sampler is passed to let pytorch know that it has to only use the subset determined by these indexes\n",
    "\n",
    "# Validation sampler and data loader\n",
    "valid_sampler = SubsetRandomSampler(val_indices)\n",
    "valid_dl = DataLoader(dataset,\n",
    "                    batch_size, \n",
    "                    sampler=valid_sampler)"
   ]
  },
  {
   "cell_type": "code",
   "execution_count": 13,
   "metadata": {},
   "outputs": [
    {
     "name": "stdout",
     "output_type": "stream",
     "text": [
      "torch.Size([100, 1, 28, 28])\n"
     ]
    }
   ],
   "source": [
    "for i in train_dl:\n",
    "    print(i[0].shape)\n",
    "    break"
   ]
  },
  {
   "cell_type": "code",
   "execution_count": 14,
   "metadata": {},
   "outputs": [
    {
     "data": {
      "text/plain": [
       "tensor([ 0., 11.,  0.])"
      ]
     },
     "execution_count": 14,
     "metadata": {},
     "output_type": "execute_result"
    }
   ],
   "source": [
    "t = torch.Tensor([-1,11,-3.12])\n",
    "torch.relu(t)"
   ]
  },
  {
   "cell_type": "markdown",
   "metadata": {},
   "source": [
    "## Neual Network"
   ]
  },
  {
   "cell_type": "code",
   "execution_count": 15,
   "metadata": {},
   "outputs": [],
   "source": [
    "class DigitModel(nn.Module):\n",
    "    def __init__(self , input_size , hidden_size , output_size):\n",
    "        super().__init__()\n",
    "        self.linear1 = nn.Linear(input_size , hidden_size)\n",
    "        self.linear2 = nn.Linear(hidden_size , output_size)\n",
    "    \n",
    "    \n",
    "    def forward(self , batch):\n",
    "        batch = batch.view(batch.size(0), -1)\n",
    "        out = self.linear1(batch)\n",
    "        out = F.relu(out)\n",
    "        out = self.linear2(out)\n",
    "        return out\n",
    "        \n",
    "        "
   ]
  },
  {
   "cell_type": "markdown",
   "metadata": {},
   "source": [
    "![title](Images/ANN.png)"
   ]
  },
  {
   "cell_type": "code",
   "execution_count": 20,
   "metadata": {},
   "outputs": [],
   "source": [
    "input_size = 28*28\n",
    "hidden_size = 16\n",
    "output_size = 10\n"
   ]
  },
  {
   "cell_type": "code",
   "execution_count": 21,
   "metadata": {},
   "outputs": [],
   "source": [
    "model = DigitModel(input_size , hidden_size , output_size)"
   ]
  },
  {
   "cell_type": "code",
   "execution_count": 22,
   "metadata": {},
   "outputs": [
    {
     "data": {
      "text/plain": [
       "[Parameter containing:\n",
       " tensor([[-0.0316,  0.0338, -0.0149,  ...,  0.0161,  0.0239,  0.0295],\n",
       "         [ 0.0100,  0.0019, -0.0074,  ..., -0.0148,  0.0028, -0.0249],\n",
       "         [-0.0324, -0.0245,  0.0170,  ...,  0.0207, -0.0130, -0.0056],\n",
       "         ...,\n",
       "         [-0.0273,  0.0302,  0.0187,  ..., -0.0325, -0.0173,  0.0118],\n",
       "         [ 0.0256, -0.0041, -0.0190,  ...,  0.0097, -0.0166, -0.0107],\n",
       "         [ 0.0333,  0.0013, -0.0144,  ..., -0.0257, -0.0119,  0.0308]],\n",
       "        requires_grad=True),\n",
       " Parameter containing:\n",
       " tensor([ 0.0201,  0.0043, -0.0103, -0.0056,  0.0054,  0.0072,  0.0070, -0.0063,\n",
       "          0.0042,  0.0225,  0.0175,  0.0257, -0.0102,  0.0045,  0.0216, -0.0036],\n",
       "        requires_grad=True),\n",
       " Parameter containing:\n",
       " tensor([[ 0.0800,  0.2392,  0.2202, -0.2025, -0.2283,  0.1583, -0.1217, -0.2293,\n",
       "           0.2112, -0.2326, -0.1119,  0.1451,  0.1624, -0.0841, -0.0054,  0.0958],\n",
       "         [ 0.0224,  0.1546, -0.0971, -0.0417,  0.0174, -0.0899, -0.2392,  0.2136,\n",
       "           0.2182, -0.0838, -0.0550, -0.0305,  0.1033, -0.0720, -0.0285, -0.1578],\n",
       "         [ 0.0516, -0.1841, -0.1718, -0.2098, -0.2111, -0.2383, -0.0497, -0.0271,\n",
       "          -0.0272,  0.2289,  0.1514,  0.0132, -0.0471,  0.2178, -0.0162, -0.2133],\n",
       "         [-0.1633, -0.2000,  0.2160, -0.2294,  0.1900,  0.1707,  0.0347, -0.1045,\n",
       "           0.1033,  0.0348,  0.2250, -0.0866, -0.2484,  0.2370, -0.1415,  0.2347],\n",
       "         [-0.1188, -0.0352,  0.0227, -0.0433,  0.0730, -0.1118, -0.0253, -0.0786,\n",
       "          -0.0336,  0.1739,  0.0440, -0.1386,  0.1019,  0.0873,  0.1859,  0.1256],\n",
       "         [-0.1995, -0.1247, -0.2107, -0.0991, -0.0695,  0.1148,  0.0302, -0.0277,\n",
       "           0.0052, -0.0672,  0.0208,  0.0927, -0.1773,  0.1796, -0.2240,  0.2094],\n",
       "         [-0.0097, -0.0235, -0.1378, -0.0791,  0.1554,  0.1268, -0.0649, -0.0178,\n",
       "           0.0051, -0.0546, -0.2289,  0.2412, -0.2038,  0.0464, -0.1618, -0.1840],\n",
       "         [-0.1036, -0.2329, -0.2020, -0.0369, -0.1381,  0.1618,  0.1092,  0.0313,\n",
       "          -0.0461, -0.1331, -0.1116,  0.2474,  0.1737, -0.2125,  0.1938,  0.1507],\n",
       "         [ 0.1278,  0.1267, -0.1220,  0.0744, -0.0766,  0.2081, -0.2117,  0.2286,\n",
       "           0.1739, -0.1941, -0.0124, -0.0176,  0.1577,  0.1471, -0.2180, -0.0319],\n",
       "         [ 0.2386,  0.1485, -0.1551, -0.0752,  0.0499, -0.0733, -0.1377,  0.1480,\n",
       "          -0.2490,  0.1206, -0.1154, -0.0517, -0.0586, -0.0097, -0.1577,  0.0435]],\n",
       "        requires_grad=True),\n",
       " Parameter containing:\n",
       " tensor([-0.1334, -0.1120, -0.0676,  0.0677, -0.0513,  0.0290,  0.1616, -0.0895,\n",
       "          0.0432, -0.0376], requires_grad=True)]"
      ]
     },
     "execution_count": 22,
     "metadata": {},
     "output_type": "execute_result"
    }
   ],
   "source": [
    "list(model.parameters()) # conains all randomly initialized weights and biases required by the neural network"
   ]
  },
  {
   "cell_type": "code",
   "execution_count": 23,
   "metadata": {},
   "outputs": [
    {
     "name": "stdout",
     "output_type": "stream",
     "text": [
      "torch.Size([16, 784])\n",
      "torch.Size([16])\n",
      "torch.Size([10, 16])\n",
      "torch.Size([10])\n"
     ]
    }
   ],
   "source": [
    "for i in model.parameters():\n",
    "    print(i.size())"
   ]
  },
  {
   "cell_type": "markdown",
   "metadata": {},
   "source": [
    "## Inital Loss"
   ]
  },
  {
   "cell_type": "code",
   "execution_count": 24,
   "metadata": {},
   "outputs": [
    {
     "name": "stdout",
     "output_type": "stream",
     "text": [
      "Initially Loss: 2.327221632003784\n",
      "5\n",
      "torch.Size([100, 10])\n",
      "tensor([-0.1461, -0.2489, -0.1289,  0.2690,  0.0054,  0.0293,  0.0290, -0.0866,\n",
      "        -0.0108, -0.1782], grad_fn=<SliceBackward>)\n"
     ]
    }
   ],
   "source": [
    "for images, labels in train_dl:\n",
    "    outputs = model(images)\n",
    "    loss = F.cross_entropy(outputs, labels)\n",
    "    print('Initially Loss:', loss.item())\n",
    "    break\n",
    "\n",
    "print(labels[-1].item())\n",
    "print(outputs.shape)\n",
    "print(outputs[-1 , :]) # gives vector with length 10 , representing the probability of each of the digit .\n",
    "                       # Since probabilty needs to be between [0-1] with the sum as 1 , Apply Softmax"
   ]
  },
  {
   "cell_type": "code",
   "execution_count": 25,
   "metadata": {},
   "outputs": [
    {
     "name": "stdout",
     "output_type": "stream",
     "text": [
      "tensor([0.0896, 0.0809, 0.0912, 0.1358, 0.1043, 0.1068, 0.1068, 0.0951, 0.1026,\n",
      "        0.0868], grad_fn=<SoftmaxBackward>)\n"
     ]
    },
    {
     "name": "stderr",
     "output_type": "stream",
     "text": [
      "/home/aryanshridhar/anaconda3/lib/python3.7/site-packages/ipykernel_launcher.py:1: UserWarning: Implicit dimension choice for softmax has been deprecated. Change the call to include dim=X as an argument.\n",
      "  \"\"\"Entry point for launching an IPython kernel.\n"
     ]
    }
   ],
   "source": [
    "print(F.softmax(outputs[-1 , :]))"
   ]
  },
  {
   "cell_type": "code",
   "execution_count": 26,
   "metadata": {},
   "outputs": [
    {
     "data": {
      "text/plain": [
       "False"
      ]
     },
     "execution_count": 26,
     "metadata": {},
     "output_type": "execute_result"
    }
   ],
   "source": [
    "torch.cuda.is_available()"
   ]
  },
  {
   "cell_type": "markdown",
   "metadata": {},
   "source": [
    "## SGD Optimizer"
   ]
  },
  {
   "cell_type": "code",
   "execution_count": 27,
   "metadata": {},
   "outputs": [],
   "source": [
    "optimizer = torch.optim.SGD(model.parameters() , lr = 0.01)"
   ]
  },
  {
   "cell_type": "markdown",
   "metadata": {},
   "source": [
    "## Training On CPU :("
   ]
  },
  {
   "cell_type": "code",
   "execution_count": 28,
   "metadata": {},
   "outputs": [
    {
     "name": "stdout",
     "output_type": "stream",
     "text": [
      "1.275739073753357\n",
      "0.5185460448265076\n",
      "0.30593499541282654\n",
      "0.3715161979198456\n",
      "0.35268595814704895\n",
      "0.29438430070877075\n",
      "0.3017854392528534\n",
      "0.20351512730121613\n"
     ]
    }
   ],
   "source": [
    "for i in range(0,16):\n",
    "    for batch,label in train_dl:\n",
    "        pred = model(batch)\n",
    "        loss = F.cross_entropy(pred , label)\n",
    "        loss.backward()\n",
    "        optimizer.step()\n",
    "        optimizer.zero_grad()\n",
    "    if i%2 == 0:\n",
    "        print(loss.item())"
   ]
  },
  {
   "cell_type": "markdown",
   "metadata": {},
   "source": [
    "## Corrected Weights and Biases"
   ]
  },
  {
   "cell_type": "code",
   "execution_count": 29,
   "metadata": {},
   "outputs": [
    {
     "name": "stdout",
     "output_type": "stream",
     "text": [
      "[Parameter containing:\n",
      "tensor([[-0.0316,  0.0338, -0.0149,  ...,  0.0161,  0.0239,  0.0295],\n",
      "        [ 0.0100,  0.0019, -0.0074,  ..., -0.0148,  0.0028, -0.0249],\n",
      "        [-0.0324, -0.0245,  0.0170,  ...,  0.0207, -0.0130, -0.0056],\n",
      "        ...,\n",
      "        [-0.0273,  0.0302,  0.0187,  ..., -0.0325, -0.0173,  0.0118],\n",
      "        [ 0.0256, -0.0041, -0.0190,  ...,  0.0097, -0.0166, -0.0107],\n",
      "        [ 0.0333,  0.0013, -0.0144,  ..., -0.0257, -0.0119,  0.0308]],\n",
      "       requires_grad=True), Parameter containing:\n",
      "tensor([-0.2216, -0.0352, -0.0839, -0.0143,  0.0783, -0.0128,  0.1347,  0.1602,\n",
      "         0.0447,  0.0908, -0.0056,  0.2974, -0.0123, -0.0718,  0.2323,  0.2639],\n",
      "       requires_grad=True), Parameter containing:\n",
      "tensor([[ 0.3665,  0.2630,  0.9244, -0.3226, -0.5022,  0.3735, -0.3261, -0.8614,\n",
      "          0.4103, -0.5219, -0.1969,  0.5567,  0.1742, -0.2413, -0.1192,  0.2713],\n",
      "        [-0.5424,  0.1447, -0.3634, -0.0579,  0.3328, -0.3012, -0.6018,  1.0771,\n",
      "          0.5277, -0.2415, -0.0993, -0.3380,  0.2496, -0.1824, -0.3338, -0.6816],\n",
      "        [ 0.1757, -0.3339,  0.1243, -0.6150, -0.8054, -0.5150,  0.0732,  0.0296,\n",
      "          0.4115,  0.5304,  0.4531,  0.2404,  0.0194,  0.8616,  0.0347, -0.5589],\n",
      "        [-0.5906, -0.2727,  0.5568, -0.7660,  0.4097,  0.0860,  0.4021,  0.0733,\n",
      "          0.3495,  0.1775,  0.5438, -0.5218, -0.3406,  0.3591, -0.3272,  0.3609],\n",
      "        [-0.1153, -0.0288, -0.3040,  0.6645,  0.4895, -0.2601, -0.3365, -0.6526,\n",
      "         -0.4967,  0.6144, -0.1904, -0.3114,  0.0141,  0.1915,  0.6808,  0.0355],\n",
      "        [-0.6148, -0.0505, -0.3897,  0.2252, -0.1632,  0.3765, -0.0550, -0.2725,\n",
      "         -0.0047, -0.5258, -0.0360,  0.5406, -0.4718,  0.4676, -0.6430,  0.9368],\n",
      "        [ 0.2387,  0.0462, -0.3471, -0.0143,  0.4901,  0.2498, -0.2928, -0.2422,\n",
      "         -0.1749,  0.2900, -0.4668,  1.0810, -0.4913,  0.0291, -0.2240, -0.9600],\n",
      "        [-0.3915, -0.2717, -0.2866, -0.3674, -0.4106,  0.0949,  0.6227,  0.3119,\n",
      "         -0.0177, -0.2918,  0.0645,  0.0126,  0.5585, -0.8904,  1.0275,  0.3750],\n",
      "        [ 0.5290,  0.1298, -0.3630,  0.4448, -0.1957,  0.4212, -0.2227,  0.2380,\n",
      "          0.1003, -0.4615, -0.0814, -0.3510,  0.3864,  0.5797, -0.6224,  0.0024],\n",
      "        [ 0.8701,  0.2424, -0.1894, -0.1336,  0.1170, -0.0983,  0.0610,  0.4352,\n",
      "         -0.7445,  0.2228, -0.1846, -0.4944, -0.1347, -0.6376, -0.0467,  0.4914]],\n",
      "       requires_grad=True), Parameter containing:\n",
      "tensor([-0.2479,  0.1782, -0.0166, -0.0907, -0.0347,  0.3225,  0.1646,  0.0295,\n",
      "        -0.4088, -0.0861], requires_grad=True)]\n"
     ]
    }
   ],
   "source": [
    "print(list(model.parameters()))"
   ]
  },
  {
   "cell_type": "markdown",
   "metadata": {},
   "source": [
    "## Accuracy On Validation Set"
   ]
  },
  {
   "cell_type": "code",
   "execution_count": 38,
   "metadata": {},
   "outputs": [],
   "source": [
    "correct = 0\n",
    "total = 0\n",
    "for test,label in valid_dl:\n",
    "    pred = model(test)\n",
    "    for i in range(len(pred)):\n",
    "        _ , prediction = torch.max(pred[i] , dim = 0)\n",
    "        if prediction.item() == label[i].item():\n",
    "            correct += 1\n",
    "        total += 1"
   ]
  },
  {
   "cell_type": "code",
   "execution_count": 43,
   "metadata": {},
   "outputs": [
    {
     "name": "stdout",
     "output_type": "stream",
     "text": [
      "Accuracy is 91%\n"
     ]
    }
   ],
   "source": [
    "print(f'Accuracy is {round((correct/total)*100)}%')"
   ]
  },
  {
   "cell_type": "code",
   "execution_count": null,
   "metadata": {},
   "outputs": [],
   "source": []
  }
 ],
 "metadata": {
  "kernelspec": {
   "display_name": "Python 3",
   "language": "python",
   "name": "python3"
  },
  "language_info": {
   "codemirror_mode": {
    "name": "ipython",
    "version": 3
   },
   "file_extension": ".py",
   "mimetype": "text/x-python",
   "name": "python",
   "nbconvert_exporter": "python",
   "pygments_lexer": "ipython3",
   "version": "3.7.6"
  }
 },
 "nbformat": 4,
 "nbformat_minor": 4
}
